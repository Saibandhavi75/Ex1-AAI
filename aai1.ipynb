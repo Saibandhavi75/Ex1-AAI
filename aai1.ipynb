{
  "nbformat": 4,
  "nbformat_minor": 0,
  "metadata": {
    "colab": {
      "provenance": []
    },
    "kernelspec": {
      "name": "python3",
      "display_name": "Python 3"
    },
    "language_info": {
      "name": "python"
    }
  },
  "cells": [
    {
      "cell_type": "code",
      "execution_count": null,
      "metadata": {
        "colab": {
          "base_uri": "https://localhost:8080/"
        },
        "id": "UZaEH7-Uu0yM",
        "outputId": "455bed10-c4fe-47e1-9a65-5040fde1c73a"
      },
      "outputs": [
        {
          "output_type": "stream",
          "name": "stdout",
          "text": [
            "Collecting pybbn\n",
            "  Downloading pybbn-3.2.3.tar.gz (36 kB)\n",
            "  Preparing metadata (setup.py) ... \u001b[?25l\u001b[?25hdone\n",
            "Requirement already satisfied: numpy in /usr/local/lib/python3.10/dist-packages (from pybbn) (1.25.2)\n",
            "Requirement already satisfied: scipy in /usr/local/lib/python3.10/dist-packages (from pybbn) (1.11.4)\n",
            "Requirement already satisfied: networkx in /usr/local/lib/python3.10/dist-packages (from pybbn) (3.2.1)\n",
            "Requirement already satisfied: pandas in /usr/local/lib/python3.10/dist-packages (from pybbn) (1.5.3)\n",
            "Requirement already satisfied: python-dateutil>=2.8.1 in /usr/local/lib/python3.10/dist-packages (from pandas->pybbn) (2.8.2)\n",
            "Requirement already satisfied: pytz>=2020.1 in /usr/local/lib/python3.10/dist-packages (from pandas->pybbn) (2023.4)\n",
            "Requirement already satisfied: six>=1.5 in /usr/local/lib/python3.10/dist-packages (from python-dateutil>=2.8.1->pandas->pybbn) (1.16.0)\n",
            "Building wheels for collected packages: pybbn\n",
            "  Building wheel for pybbn (setup.py) ... \u001b[?25l\u001b[?25hdone\n",
            "  Created wheel for pybbn: filename=pybbn-3.2.3-py3-none-any.whl size=40373 sha256=959751f4dea2f8c43a0ef340e627d918b679ef723f8bd894698399ddc2f6fd41\n",
            "  Stored in directory: /root/.cache/pip/wheels/a7/6f/f1/ec7566a4882ab5c796fb43dfd84062769f75ba5381ca60d2b6\n",
            "Successfully built pybbn\n",
            "Installing collected packages: pybbn\n",
            "Successfully installed pybbn-3.2.3\n"
          ]
        }
      ],
      "source": [
        "!pip install pybbn\n",
        "import networkx as nx\n",
        "import pandas as pd\n",
        "import matplotlib.pyplot as plt\n",
        "from pybbn.graph.dag import Bbn\n",
        "from pybbn.graph.dag import Edge,EdgeType\n",
        "from pybbn.graph.jointree import EvidenceBuilder\n",
        "from pybbn.graph.node import BbnNode\n",
        "from pybbn.graph.variable import Variable\n",
        "from pybbn.pptc.inferencecontroller import InferenceController\n",
        "pd.options.display.max_columns=50"
      ]
    },
    {
      "cell_type": "code",
      "source": [
        "df=pd.read_csv('weatherAUS.csv',encoding='utf-8')\n",
        "df=df[pd.isnull(df['RainTomorrow'])==False]"
      ],
      "metadata": {
        "id": "e0Go3UFzrF9m"
      },
      "execution_count": null,
      "outputs": []
    },
    {
      "cell_type": "code",
      "source": [
        "df=df.fillna(df.mean())\n",
        "df['WindGustSpeedCat']=df['WindGustSpeed'].apply(lambda x: '0.<=40'   if x<=40 else '1.40-50' if 40<x<=50 else '2.>50')\n",
        "df['Humidity9amCat']=df['Humidity9am'].apply(lambda x: '1.>60' if x>60 else '0.<=60')\n",
        "df['Humidity3pmCat']=df['Humidity3pm'].apply(lambda x: '1.>60' if x>60 else '0.<=60')\n",
        "print(df)\n",
        "def probs(data, child, parent1=None, parent2=None):\n",
        "    if parent1==None:\n",
        "        # Calculate probabilities\n",
        "        prob=pd.crosstab(data[child], 'Empty', margins=False, normalize='columns').sort_index().to_numpy().reshape(-1).tolist()\n",
        "    elif parent1!=None:\n",
        "            # Check if child node has 1 parent or 2 parents\n",
        "            if parent2==None:\n",
        "                # Caclucate probabilities\n",
        "                prob=pd.crosstab(data[parent1],data[child], margins=False, normalize='index').sort_index().to_numpy().reshape(-1).tolist()\n",
        "            else:\n",
        "                # Caclucate probabilities\n",
        "                prob=pd.crosstab([data[parent1],data[parent2]],data[child], margins=False, normalize='index').sort_index().to_numpy().reshape(-1).tolist()\n",
        "    else: print(\"Error in Probability Frequency Calculations\")\n",
        "    return prob\n",
        "H9am = BbnNode(Variable(0, 'H9am', ['<=60', '>60']), probs(df, child='Humidity9amCat'))\n",
        "H3pm = BbnNode(Variable(1, 'H3pm', ['<=60', '>60']), probs(df, child='Humidity3pmCat', parent1='Humidity9amCat'))\n",
        "W = BbnNode(Variable(2, 'W', ['<=40', '40-50', '>50']), probs(df, child='WindGustSpeedCat'))\n",
        "RT = BbnNode(Variable(3, 'RT', ['No', 'Yes']), probs(df, child='RainTomorrow', parent1='Humidity3pmCat', parent2='WindGustSpeedCat'))\n",
        "bbn = Bbn() \\\n",
        "    .add_node(H9am) \\\n",
        "    .add_node(H3pm) \\\n",
        "    .add_node(W) \\\n",
        "    .add_node(RT) \\\n",
        "    .add_edge(Edge(H9am, H3pm, EdgeType.DIRECTED)) \\\n",
        "    .add_edge(Edge(H3pm, RT, EdgeType.DIRECTED)) \\\n",
        "    .add_edge(Edge(W, RT, EdgeType.DIRECTED))\n",
        "join_tree = InferenceController.apply(bbn)\n",
        "pos = {0: (-1, 2), 1: (-1, 0.5), 2: (1, 0.5), 3: (0, -1)}\n",
        "options = {\n",
        "\"font_size\": 16,\n",
        "\"node_size\": 4000,\n",
        "\"node_color\": \"magenta\",\n",
        "\"edgecolors\": \"black\",\n",
        "\"edge_color\": \"blue\",\n",
        "\"linewidths\": 5,\n",
        "\"width\": 5,}\n",
        "n, d = bbn.to_nx_graph()\n",
        "nx.draw(n, with_labels=True, labels=d, pos=pos, **options)\n",
        "ax = plt.gca()\n",
        "ax.margins(0.10)\n",
        "plt.axis(\"off\")\n",
        "plt.show()"
      ],
      "metadata": {
        "colab": {
          "base_uri": "https://localhost:8080/",
          "height": 1000
        },
        "id": "l2t4L1zOsAc1",
        "outputId": "80c88ed2-c77c-4b59-89a7-ed37c3cc15dd"
      },
      "execution_count": null,
      "outputs": [
        {
          "output_type": "stream",
          "name": "stderr",
          "text": [
            "<ipython-input-9-34e66bd4cf88>:1: FutureWarning: The default value of numeric_only in DataFrame.mean is deprecated. In a future version, it will default to False. In addition, specifying 'numeric_only=None' is deprecated. Select only valid columns or specify the value of numeric_only to silence this warning.\n",
            "  df=df.fillna(df.mean())\n"
          ]
        },
        {
          "output_type": "stream",
          "name": "stdout",
          "text": [
            "              Date Location  MinTemp  MaxTemp  Rainfall  Evaporation  \\\n",
            "0       2008-12-01   Albury     13.4     22.9       0.6     5.333792   \n",
            "1       2008-12-02   Albury      7.4     25.1       0.0     5.333792   \n",
            "2       2008-12-03   Albury     12.9     25.7       0.0     5.333792   \n",
            "3       2008-12-04   Albury      9.2     28.0       0.0     5.333792   \n",
            "4       2008-12-05   Albury     17.5     32.3       1.0     5.333792   \n",
            "...            ...      ...      ...      ...       ...          ...   \n",
            "129798  2017-05-17  Walpole     11.9     19.6       1.6     5.333792   \n",
            "129799  2017-05-18  Walpole     11.6     22.1       0.0     5.333792   \n",
            "129800  2017-05-19  Walpole     14.3     19.8      14.8     5.333792   \n",
            "129801  2017-05-20  Walpole      8.6     14.7       7.4     5.333792   \n",
            "129802  2017-05-21  Walpole     10.0     13.6       9.4     5.333792   \n",
            "\n",
            "        Sunshine WindGustDir  WindGustSpeed WindDir9am WindDir3pm  \\\n",
            "0       7.557689           W           44.0          W        WNW   \n",
            "1       7.557689         WNW           44.0        NNW        WSW   \n",
            "2       7.557689         WSW           46.0          W        WSW   \n",
            "3       7.557689          NE           24.0         SE          E   \n",
            "4       7.557689           W           41.0        ENE         NW   \n",
            "...          ...         ...            ...        ...        ...   \n",
            "129798  7.557689         ENE           28.0        ENE        ENE   \n",
            "129799  7.557689         NNE           43.0          N         NW   \n",
            "129800  7.557689           W           59.0        NNW         NW   \n",
            "129801  7.557689           N           44.0         NW         NW   \n",
            "129802  7.557689          NW           61.0          W        WSW   \n",
            "\n",
            "        WindSpeed9am  WindSpeed3pm  Humidity9am  Humidity3pm  Pressure9am  \\\n",
            "0               20.0          24.0         71.0         22.0       1007.7   \n",
            "1                4.0          22.0         44.0         25.0       1010.6   \n",
            "2               19.0          26.0         38.0         30.0       1007.6   \n",
            "3               11.0           9.0         45.0         16.0       1017.6   \n",
            "4                7.0          20.0         82.0         33.0       1010.8   \n",
            "...              ...           ...          ...          ...          ...   \n",
            "129798           9.0          11.0         84.0         61.0       1022.2   \n",
            "129799           7.0          17.0         69.0         57.0       1017.5   \n",
            "129800          15.0          24.0         99.0         84.0       1010.5   \n",
            "129801          15.0          15.0         81.0         72.0       1012.3   \n",
            "129802          20.0          24.0         91.0         67.0       1002.3   \n",
            "\n",
            "        Pressure3pm  Cloud9am  Cloud3pm  Temp9am  Temp3pm RainToday  \\\n",
            "0            1007.1  8.000000    4.5449     16.9     21.8        No   \n",
            "1            1007.8  4.500564    4.5449     17.2     24.3        No   \n",
            "2            1008.7  4.500564    2.0000     21.0     23.2        No   \n",
            "3            1012.8  4.500564    4.5449     18.1     26.5        No   \n",
            "4            1006.0  7.000000    8.0000     17.8     29.7        No   \n",
            "...             ...       ...       ...      ...      ...       ...   \n",
            "129798       1020.6  4.500564    4.5449     14.6     17.9       Yes   \n",
            "129799       1014.0  4.500564    4.5449     14.3     20.9        No   \n",
            "129800       1005.8  4.500564    4.5449     16.7     17.5       Yes   \n",
            "129801       1008.9  4.500564    4.5449     10.9     14.2       Yes   \n",
            "129802       1006.8  4.500564    4.5449     10.4     10.8       Yes   \n",
            "\n",
            "       RainTomorrow WindGustSpeedCat Humidity9amCat Humidity3pmCat  \n",
            "0                No          1.40-50          1.>60         0.<=60  \n",
            "1                No          1.40-50         0.<=60         0.<=60  \n",
            "2                No          1.40-50         0.<=60         0.<=60  \n",
            "3                No           0.<=40         0.<=60         0.<=60  \n",
            "4                No          1.40-50          1.>60         0.<=60  \n",
            "...             ...              ...            ...            ...  \n",
            "129798           No           0.<=40          1.>60          1.>60  \n",
            "129799          Yes          1.40-50          1.>60         0.<=60  \n",
            "129800          Yes            2.>50          1.>60          1.>60  \n",
            "129801          Yes          1.40-50          1.>60          1.>60  \n",
            "129802          Yes            2.>50          1.>60          1.>60  \n",
            "\n",
            "[126640 rows x 26 columns]\n"
          ]
        },
        {
          "output_type": "display_data",
          "data": {
            "text/plain": [
              "<Figure size 640x480 with 1 Axes>"
            ],
            "image/png": "[encoded data removed]"
          },
          "metadata": {}
        }
      ]
    },
    {
      "cell_type": "code",
      "source": [],
      "metadata": {
        "id": "bZR4PV30sg9D"
      },
      "execution_count": null,
      "outputs": []
    }
  ]
}